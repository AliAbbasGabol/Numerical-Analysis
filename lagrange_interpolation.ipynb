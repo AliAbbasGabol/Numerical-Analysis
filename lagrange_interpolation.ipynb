{
  "nbformat": 4,
  "nbformat_minor": 0,
  "metadata": {
    "colab": {
      "provenance": [],
      "authorship_tag": "ABX9TyMwmBSprf7uPQwL6s7IRtaB",
      "include_colab_link": true
    },
    "kernelspec": {
      "name": "python3",
      "display_name": "Python 3"
    },
    "language_info": {
      "name": "python"
    }
  },
  "cells": [
    {
      "cell_type": "markdown",
      "metadata": {
        "id": "view-in-github",
        "colab_type": "text"
      },
      "source": [
        "<a href=\"https://colab.research.google.com/github/AliAbbasGabol/Numerical-Analysis/blob/main/lagrange_interpolation.ipynb\" target=\"_parent\"><img src=\"https://colab.research.google.com/assets/colab-badge.svg\" alt=\"Open In Colab\"/></a>"
      ]
    },
    {
      "cell_type": "code",
      "source": [
        "pip install pylatexenc"
      ],
      "metadata": {
        "colab": {
          "base_uri": "https://localhost:8080/"
        },
        "id": "jRCkkzGnlGqj",
        "outputId": "95cf94d0-e84b-4aec-f8df-323ff9275c59"
      },
      "execution_count": null,
      "outputs": [
        {
          "output_type": "stream",
          "name": "stdout",
          "text": [
            "Collecting pylatexenc\n",
            "  Downloading pylatexenc-2.10.tar.gz (162 kB)\n",
            "\u001b[?25l     \u001b[90m━━━━━━━━━━━━━━━━━━━━━━━━━━━━━━━━━━━━━━━━\u001b[0m \u001b[32m0.0/162.6 kB\u001b[0m \u001b[31m?\u001b[0m eta \u001b[36m-:--:--\u001b[0m\r\u001b[2K     \u001b[91m━━━━━━━━━━━━━━━━━━━━━━━━━━━━━━━━━━━━━\u001b[0m\u001b[91m╸\u001b[0m\u001b[90m━━\u001b[0m \u001b[32m153.6/162.6 kB\u001b[0m \u001b[31m4.5 MB/s\u001b[0m eta \u001b[36m0:00:01\u001b[0m\r\u001b[2K     \u001b[90m━━━━━━━━━━━━━━━━━━━━━━━━━━━━━━━━━━━━━━━━\u001b[0m \u001b[32m162.6/162.6 kB\u001b[0m \u001b[31m3.6 MB/s\u001b[0m eta \u001b[36m0:00:00\u001b[0m\n",
            "\u001b[?25h  Preparing metadata (setup.py) ... \u001b[?25l\u001b[?25hdone\n",
            "Building wheels for collected packages: pylatexenc\n",
            "  Building wheel for pylatexenc (setup.py) ... \u001b[?25l\u001b[?25hdone\n",
            "  Created wheel for pylatexenc: filename=pylatexenc-2.10-py3-none-any.whl size=136816 sha256=5ccf6461b433b1276573b6f3d0ba6f5158121198175e36d1c68a1227195c77cc\n",
            "  Stored in directory: /root/.cache/pip/wheels/d3/31/8b/e09b0386afd80cfc556c00408c9aeea5c35c4d484a9c762fd5\n",
            "Successfully built pylatexenc\n",
            "Installing collected packages: pylatexenc\n",
            "Successfully installed pylatexenc-2.10\n"
          ]
        }
      ]
    },
    {
      "cell_type": "code",
      "execution_count": null,
      "metadata": {
        "colab": {
          "base_uri": "https://localhost:8080/",
          "height": 130
        },
        "id": "cN5nIanLQ7x4",
        "outputId": "0e8049a8-8c61-441b-eb5c-002b54210751"
      },
      "outputs": [
        {
          "name": "stdout",
          "output_type": "stream",
          "text": [
            "Using lagrange Interpolation What do u want to obtain \n",
            "1:Answer only\n",
            "2:Steped Answer\n",
            "3:Polynomial Equation\n",
            "3\n"
          ]
        },
        {
          "output_type": "display_data",
          "data": {
            "text/plain": [
              "-0.00208333333335986*x**3 + 0.112083333324335*x**2 + 1.68620416670456*x - 2.96077250011149"
            ],
            "text/latex": "$\\displaystyle - 0.00208333333335986 x^{3} + 0.112083333324335 x^{2} + 1.68620416670456 x - 2.96077250011149$"
          },
          "metadata": {}
        }
      ],
      "source": [
        "import random\n",
        "from IPython.display import display, Latex\n",
        "from sympy import simplify,factor,collect,powsimp,expand\n",
        "from sympy import symbols, diff\n",
        "from pylatexenc.latex2text import LatexNodes2Text\n",
        "from sympy.abc import _clash1\n",
        "\n",
        "global printer\n",
        "printer = \"\"\n",
        "\n",
        "def switch(action):\n",
        "  match action:\n",
        "    case 1:\n",
        "      print(\"f(\"+ str(x) + \")\" + \" = \" + str(langrange(data,x)))\n",
        "\n",
        "    case 2:\n",
        "      displayer(printer,langrange(data,x))\n",
        "    case 3:\n",
        "      equation_maker()\n",
        "    case _:\n",
        "      print(\"Invalid input\")\n",
        "\n",
        "def equation_maker():\n",
        "  x = symbols('x')\n",
        "  txt = LatexNodes2Text().latex_to_text(printer)\n",
        "  expr = simplify(txt)\n",
        "  display(expr.expand())\n",
        "\n",
        "\n",
        "def displayer(totay,ans):\n",
        "  display(Latex(printer+\" = \" + str(ans)))\n",
        "\n",
        "\n",
        "\n",
        "def lnxk(ln,xk,x,data,j_in):\n",
        "  summa = 1\n",
        "  tota = \"\"\n",
        "  for k in range(len(ln)):\n",
        "\n",
        "    numerator = (x-ln[k])\n",
        "    denominator = (xk-ln[k])\n",
        "    summa = summa * (numerator/denominator)\n",
        "    f = '\\\\frac{(x-'+str(ln[k])+')}{('+ str(xk)+ '- '+ str(ln[k]) +')} * '\n",
        "    tota += f\n",
        "\n",
        "  return summa,tota\n",
        "\n",
        "def langrange(data,x):\n",
        "  global printer\n",
        "  summ = 0\n",
        "  for j in range((len(data[0]))):\n",
        "\n",
        "    ln = data[0].copy()\n",
        "    xk  = data[0][j]\n",
        "\n",
        "    del ln[j]\n",
        "    ouput, print_w = lnxk(ln,xk,x,data,j)\n",
        "    if j < len(data[0])-1:\n",
        "      printer = printer + (print_w + str(data[1][j])+\" + \")\n",
        "    else:\n",
        "      printer = printer + (print_w + str(data[1][j]))\n",
        "    summ += (ouput * data[1][j])\n",
        "\n",
        "  return summ\n",
        "\n",
        "\n",
        "\n",
        "\n",
        "#this is where we take input as 2d array of values of x and f(x)\n",
        "\n",
        "data = [[8.1,8.3,8.6,8.7],[16.94410,17.56492,18.50515,18.82091]]\n",
        "\n",
        "# x is the the point to be approximated\n",
        "\n",
        "x=8.4\n",
        "langrange(data,x)\n",
        "print(\"Using lagrange Interpolation What do u want to obtain \\n1:Answer only\\n2:Steped Answer\\n3:Polynomial Equation\")\n",
        "action = int(input())\n",
        "switch(action)"
      ]
    },
    {
      "cell_type": "code",
      "source": [],
      "metadata": {
        "id": "2H3vTXw14MgD"
      },
      "execution_count": null,
      "outputs": []
    }
  ]
}