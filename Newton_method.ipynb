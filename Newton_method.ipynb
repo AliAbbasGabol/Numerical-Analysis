{
  "nbformat": 4,
  "nbformat_minor": 0,
  "metadata": {
    "colab": {
      "provenance": [],
      "authorship_tag": "ABX9TyMoggWsFahhX+rzNZwuISd/",
      "include_colab_link": true
    },
    "kernelspec": {
      "name": "python3",
      "display_name": "Python 3"
    },
    "language_info": {
      "name": "python"
    }
  },
  "cells": [
    {
      "cell_type": "markdown",
      "metadata": {
        "id": "view-in-github",
        "colab_type": "text"
      },
      "source": [
        "<a href=\"https://colab.research.google.com/github/AliAbbasGabol/Numerical-Analysis/blob/main/Newton_method.ipynb\" target=\"_parent\"><img src=\"https://colab.research.google.com/assets/colab-badge.svg\" alt=\"Open In Colab\"/></a>"
      ]
    },
    {
      "cell_type": "code",
      "execution_count": null,
      "metadata": {
        "colab": {
          "base_uri": "https://localhost:8080/"
        },
        "id": "syCzTkYO4ZAi",
        "outputId": "a2acd888-b169-4c43-a7e9-67277b1d6d3e"
      },
      "outputs": [
        {
          "output_type": "stream",
          "name": "stdout",
          "text": [
            "tUsing Newton Interpolation What do u want to obtain \n",
            "\n",
            "1:Answer only\n",
            "2:Steped Answer\n",
            "3:Polynomial Equation\n",
            "2\n",
            " + (-0.0020833333333447855*(x - 8.1)*(x - 8.3)*(x - 8.6)) + (0.06000000000003336*(x - 8.1)*(x - 8.3)) + (3.104099999999993*(x - 8.1)) = 17.877142499999998\n"
          ]
        }
      ],
      "source": [
        "from IPython.display import display, Latex\n",
        "from sympy import simplify,factor,collect,powsimp,expand\n",
        "from sympy import symbols, diff\n",
        "from sympy.abc import _clash1\n",
        "\n",
        "global stringer\n",
        "stringer = \"\"\n",
        "#The input for data is taken as 2d array of x and F(x) values as saved in variable below\n",
        "data = [[8.1,8.3,8.6,8.7],[16.94410,17.56492,18.50515,18.82091]]\n",
        "\n",
        "\n",
        "def switch(action):\n",
        "  match action:\n",
        "    case 1:\n",
        "      print(\"\\n\\n\" + \"Answer = \" + str(answer))\n",
        "\n",
        "    case 2:\n",
        "     equation_displayer ()\n",
        "     print(\" = \" + str(answer))\n",
        "    case 3:\n",
        "      equation_maker()\n",
        "    case _:\n",
        "      print(\"Invalid input\")\n",
        "\n",
        "\n",
        "def equation_maker():\n",
        "  x = symbols('x')\n",
        "\n",
        "  expr = simplify(stringer)\n",
        "  display(expr.expand())\n",
        "\n",
        "def equation_displayer():\n",
        "  print(stringer,end =\"\")\n",
        "\n",
        "\n",
        "def final_caluclator(g, ds,x):\n",
        "  global answer\n",
        "  answer = g[0]\n",
        "  global stringer\n",
        "  for k in range(len(g)-1):\n",
        "    sub = 1\n",
        "    stringer = stringer + \" + (\"\n",
        "    stringer = stringer + str(g[len(g)-1-k])\n",
        "    for l in range(len(g)-1-k):\n",
        "      sub = sub * (x - ds[0][l])\n",
        "      stringer = stringer + \"*(x - \" + str(data[0][l]) + \")\"\n",
        "    sub = sub * g[len(g)-1-k]\n",
        "    stringer = stringer + \")\"\n",
        "    answer = answer + sub\n",
        "\n",
        "\n",
        "\n",
        "\n",
        "\n",
        "def newton_fx(data):\n",
        "  final = []\n",
        "  g = [[] for y in range(len(data[0]))]\n",
        "  g[0] = data[1]\n",
        "  ans = 0.0\n",
        "  for i in range(len(data[0])):\n",
        "    for j in range(len(data[0])-i-1):\n",
        "      numerator = g[i][j+1] - g[i][j]\n",
        "\n",
        "      denominator = data[0][j+1+i] - data[0][j]\n",
        "      ans = numerator/denominator\n",
        "      g[i+1].append(ans)\n",
        "    final.append(g[i][0])\n",
        "  return final\n",
        "\n",
        "# x is variable that we use for value that needs to be approximated at\n",
        "x=8.4\n",
        "g = newton_fx(data)\n",
        "final_caluclator(g,data,x)\n",
        "print(\"tUsing Newton Interpolation What do u want to obtain \\n\\n1:Answer only\\n2:Steped Answer\\n3:Polynomial Equation\")\n",
        "action = int(input())\n",
        "switch(action)"
      ]
    }
  ]
}